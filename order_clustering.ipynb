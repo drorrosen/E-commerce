{
  "nbformat": 4,
  "nbformat_minor": 0,
  "metadata": {
    "colab": {
      "name": "order_clustering",
      "provenance": []
    },
    "kernelspec": {
      "name": "python3",
      "display_name": "Python 3"
    }
  },
  "cells": [
    {
      "cell_type": "markdown",
      "metadata": {
        "id": "Tj0fHc-m1oWy",
        "colab_type": "text"
      },
      "source": [
        "Authors: Dror & Mariia"
      ]
    },
    {
      "cell_type": "code",
      "metadata": {
        "id": "iOlzwRVA1pdY",
        "colab_type": "code",
        "colab": {
          "base_uri": "https://localhost:8080/",
          "height": 17
        },
        "outputId": "7a8da803-c8a5-47ce-a573-b353c6d0754f"
      },
      "source": [
        "import pandas as pd\n",
        "import numpy as np\n",
        "import matplotlib as mpl\n",
        "import matplotlib.pyplot as plt\n",
        "import seaborn as sns\n",
        "import datetime, nltk, warnings\n",
        "import matplotlib.cm as cm\n",
        "import itertools\n",
        "from pathlib import Path\n",
        "from sklearn.preprocessing import StandardScaler\n",
        "from sklearn.cluster import KMeans\n",
        "from sklearn.metrics import silhouette_samples, silhouette_score\n",
        "from sklearn import preprocessing, model_selection, metrics, feature_selection\n",
        "from sklearn.model_selection import GridSearchCV, learning_curve\n",
        "from sklearn.svm import SVC\n",
        "from sklearn.metrics import confusion_matrix\n",
        "from sklearn import neighbors, linear_model, svm, tree, ensemble\n",
        "from wordcloud import WordCloud, STOPWORDS\n",
        "from sklearn.ensemble import AdaBoostClassifier\n",
        "from sklearn.decomposition import PCA\n",
        "from IPython.display import display, HTML\n",
        "import plotly.graph_objs as go\n",
        "from plotly.offline import init_notebook_mode,iplot\n",
        "init_notebook_mode(connected=True)\n",
        "warnings.filterwarnings(\"ignore\")\n",
        "plt.rcParams[\"patch.force_edgecolor\"] = True\n",
        "plt.style.use('fivethirtyeight')\n",
        "mpl.rc('patch', edgecolor = 'dimgray', linewidth=1)\n",
        "%matplotlib inline"
      ],
      "execution_count": 24,
      "outputs": [
        {
          "output_type": "display_data",
          "data": {
            "text/html": [
              "        <script type=\"text/javascript\">\n",
              "        window.PlotlyConfig = {MathJaxConfig: 'local'};\n",
              "        if (window.MathJax) {MathJax.Hub.Config({SVG: {font: \"STIX-Web\"}});}\n",
              "        if (typeof require !== 'undefined') {\n",
              "        require.undef(\"plotly\");\n",
              "        requirejs.config({\n",
              "            paths: {\n",
              "                'plotly': ['https://cdn.plot.ly/plotly-latest.min']\n",
              "            }\n",
              "        });\n",
              "        require(['plotly'], function(Plotly) {\n",
              "            window._Plotly = Plotly;\n",
              "        });\n",
              "        }\n",
              "        </script>\n",
              "        "
            ]
          },
          "metadata": {
            "tags": []
          }
        }
      ]
    },
    {
      "cell_type": "code",
      "metadata": {
        "id": "gtkETAkvbI5_",
        "colab_type": "code",
        "colab": {
          "base_uri": "https://localhost:8080/",
          "height": 195
        },
        "outputId": "d0142be3-91f9-484e-d056-2f8ac8e2ef38"
      },
      "source": [
        "df = pd.read_csv('drive/My Drive/customer_segmentation.csv', encoding=\"ISO-8859-1\") # from https://www.kaggle.com/carrie1/ecommerce-data\n",
        "df['InvoiceDate'] = pd.to_datetime(df['InvoiceDate'])\n",
        "df.head()"
      ],
      "execution_count": 25,
      "outputs": [
        {
          "output_type": "execute_result",
          "data": {
            "text/html": [
              "<div>\n",
              "<style scoped>\n",
              "    .dataframe tbody tr th:only-of-type {\n",
              "        vertical-align: middle;\n",
              "    }\n",
              "\n",
              "    .dataframe tbody tr th {\n",
              "        vertical-align: top;\n",
              "    }\n",
              "\n",
              "    .dataframe thead th {\n",
              "        text-align: right;\n",
              "    }\n",
              "</style>\n",
              "<table border=\"1\" class=\"dataframe\">\n",
              "  <thead>\n",
              "    <tr style=\"text-align: right;\">\n",
              "      <th></th>\n",
              "      <th>InvoiceNo</th>\n",
              "      <th>StockCode</th>\n",
              "      <th>Description</th>\n",
              "      <th>Quantity</th>\n",
              "      <th>InvoiceDate</th>\n",
              "      <th>UnitPrice</th>\n",
              "      <th>CustomerID</th>\n",
              "      <th>Country</th>\n",
              "    </tr>\n",
              "  </thead>\n",
              "  <tbody>\n",
              "    <tr>\n",
              "      <th>0</th>\n",
              "      <td>536365</td>\n",
              "      <td>85123A</td>\n",
              "      <td>WHITE HANGING HEART T-LIGHT HOLDER</td>\n",
              "      <td>6</td>\n",
              "      <td>2010-12-01 08:26:00</td>\n",
              "      <td>2.55</td>\n",
              "      <td>17850.0</td>\n",
              "      <td>United Kingdom</td>\n",
              "    </tr>\n",
              "    <tr>\n",
              "      <th>1</th>\n",
              "      <td>536365</td>\n",
              "      <td>71053</td>\n",
              "      <td>WHITE METAL LANTERN</td>\n",
              "      <td>6</td>\n",
              "      <td>2010-12-01 08:26:00</td>\n",
              "      <td>3.39</td>\n",
              "      <td>17850.0</td>\n",
              "      <td>United Kingdom</td>\n",
              "    </tr>\n",
              "    <tr>\n",
              "      <th>2</th>\n",
              "      <td>536365</td>\n",
              "      <td>84406B</td>\n",
              "      <td>CREAM CUPID HEARTS COAT HANGER</td>\n",
              "      <td>8</td>\n",
              "      <td>2010-12-01 08:26:00</td>\n",
              "      <td>2.75</td>\n",
              "      <td>17850.0</td>\n",
              "      <td>United Kingdom</td>\n",
              "    </tr>\n",
              "    <tr>\n",
              "      <th>3</th>\n",
              "      <td>536365</td>\n",
              "      <td>84029G</td>\n",
              "      <td>KNITTED UNION FLAG HOT WATER BOTTLE</td>\n",
              "      <td>6</td>\n",
              "      <td>2010-12-01 08:26:00</td>\n",
              "      <td>3.39</td>\n",
              "      <td>17850.0</td>\n",
              "      <td>United Kingdom</td>\n",
              "    </tr>\n",
              "    <tr>\n",
              "      <th>4</th>\n",
              "      <td>536365</td>\n",
              "      <td>84029E</td>\n",
              "      <td>RED WOOLLY HOTTIE WHITE HEART.</td>\n",
              "      <td>6</td>\n",
              "      <td>2010-12-01 08:26:00</td>\n",
              "      <td>3.39</td>\n",
              "      <td>17850.0</td>\n",
              "      <td>United Kingdom</td>\n",
              "    </tr>\n",
              "  </tbody>\n",
              "</table>\n",
              "</div>"
            ],
            "text/plain": [
              "  InvoiceNo StockCode  ... CustomerID         Country\n",
              "0    536365    85123A  ...    17850.0  United Kingdom\n",
              "1    536365     71053  ...    17850.0  United Kingdom\n",
              "2    536365    84406B  ...    17850.0  United Kingdom\n",
              "3    536365    84029G  ...    17850.0  United Kingdom\n",
              "4    536365    84029E  ...    17850.0  United Kingdom\n",
              "\n",
              "[5 rows x 8 columns]"
            ]
          },
          "metadata": {
            "tags": []
          },
          "execution_count": 25
        }
      ]
    },
    {
      "cell_type": "markdown",
      "metadata": {
        "id": "mpJv8_3a21SF",
        "colab_type": "text"
      },
      "source": [
        "## 1 First, let's see what data do we have"
      ]
    },
    {
      "cell_type": "code",
      "metadata": {
        "id": "yFiZjS-mb6rg",
        "colab_type": "code",
        "colab": {
          "base_uri": "https://localhost:8080/",
          "height": 269
        },
        "outputId": "dd83ce09-8730-4d78-c15e-4b25ff3185ec"
      },
      "source": [
        "df.info()"
      ],
      "execution_count": 26,
      "outputs": [
        {
          "output_type": "stream",
          "text": [
            "<class 'pandas.core.frame.DataFrame'>\n",
            "RangeIndex: 541909 entries, 0 to 541908\n",
            "Data columns (total 8 columns):\n",
            " #   Column       Non-Null Count   Dtype         \n",
            "---  ------       --------------   -----         \n",
            " 0   InvoiceNo    541909 non-null  object        \n",
            " 1   StockCode    541909 non-null  object        \n",
            " 2   Description  540455 non-null  object        \n",
            " 3   Quantity     541909 non-null  int64         \n",
            " 4   InvoiceDate  541909 non-null  datetime64[ns]\n",
            " 5   UnitPrice    541909 non-null  float64       \n",
            " 6   CustomerID   406829 non-null  float64       \n",
            " 7   Country      541909 non-null  object        \n",
            "dtypes: datetime64[ns](1), float64(2), int64(1), object(4)\n",
            "memory usage: 33.1+ MB\n"
          ],
          "name": "stdout"
        }
      ]
    },
    {
      "cell_type": "code",
      "metadata": {
        "id": "RMOZ9MOicMjp",
        "colab_type": "code",
        "colab": {
          "base_uri": "https://localhost:8080/",
          "height": 168
        },
        "outputId": "cc7f512d-e014-4122-a691-d63cee611965"
      },
      "source": [
        "df.isna().sum()"
      ],
      "execution_count": 27,
      "outputs": [
        {
          "output_type": "execute_result",
          "data": {
            "text/plain": [
              "InvoiceNo           0\n",
              "StockCode           0\n",
              "Description      1454\n",
              "Quantity            0\n",
              "InvoiceDate         0\n",
              "UnitPrice           0\n",
              "CustomerID     135080\n",
              "Country             0\n",
              "dtype: int64"
            ]
          },
          "metadata": {
            "tags": []
          },
          "execution_count": 27
        }
      ]
    },
    {
      "cell_type": "code",
      "metadata": {
        "id": "ySMxVXQq4_8X",
        "colab_type": "code",
        "colab": {
          "base_uri": "https://localhost:8080/",
          "height": 34
        },
        "outputId": "21775ba6-1ac2-4119-dee1-a9023e1c2f84"
      },
      "source": [
        "df.duplicated().sum()"
      ],
      "execution_count": 28,
      "outputs": [
        {
          "output_type": "execute_result",
          "data": {
            "text/plain": [
              "5268"
            ]
          },
          "metadata": {
            "tags": []
          },
          "execution_count": 28
        }
      ]
    },
    {
      "cell_type": "markdown",
      "metadata": {
        "id": "onZeKs5Um0GV",
        "colab_type": "text"
      },
      "source": [
        "## 2 EDA"
      ]
    },
    {
      "cell_type": "markdown",
      "metadata": {
        "id": "84WwDK7W14Uy",
        "colab_type": "text"
      },
      "source": [
        "### 2.1. 25% of entries are null-valued customers. \n",
        "\n",
        "So, let's select this subgroup, save it separately and later check it. Should it be removed from our main data? \n",
        "\n",
        "Since we are clustering orders, these orders with undefined customers will be assigned to the same customer if we do some fillna - this is bad. Probably, we have to work with that data separately"
      ]
    },
    {
      "cell_type": "code",
      "metadata": {
        "id": "of7GUzQkuq5g",
        "colab_type": "code",
        "colab": {
          "base_uri": "https://localhost:8080/",
          "height": 136
        },
        "outputId": "c14b3d4b-e9c0-450d-b3cb-55fa22296186"
      },
      "source": [
        "null_customers = df[df.CustomerID.isna()]\n",
        "null_customers.to_csv('drive/My Drive/null_customers.csv')  # later we will return to this\n",
        "null_customers.head(3)"
      ],
      "execution_count": 29,
      "outputs": [
        {
          "output_type": "execute_result",
          "data": {
            "text/html": [
              "<div>\n",
              "<style scoped>\n",
              "    .dataframe tbody tr th:only-of-type {\n",
              "        vertical-align: middle;\n",
              "    }\n",
              "\n",
              "    .dataframe tbody tr th {\n",
              "        vertical-align: top;\n",
              "    }\n",
              "\n",
              "    .dataframe thead th {\n",
              "        text-align: right;\n",
              "    }\n",
              "</style>\n",
              "<table border=\"1\" class=\"dataframe\">\n",
              "  <thead>\n",
              "    <tr style=\"text-align: right;\">\n",
              "      <th></th>\n",
              "      <th>InvoiceNo</th>\n",
              "      <th>StockCode</th>\n",
              "      <th>Description</th>\n",
              "      <th>Quantity</th>\n",
              "      <th>InvoiceDate</th>\n",
              "      <th>UnitPrice</th>\n",
              "      <th>CustomerID</th>\n",
              "      <th>Country</th>\n",
              "    </tr>\n",
              "  </thead>\n",
              "  <tbody>\n",
              "    <tr>\n",
              "      <th>622</th>\n",
              "      <td>536414</td>\n",
              "      <td>22139</td>\n",
              "      <td>NaN</td>\n",
              "      <td>56</td>\n",
              "      <td>2010-12-01 11:52:00</td>\n",
              "      <td>0.00</td>\n",
              "      <td>NaN</td>\n",
              "      <td>United Kingdom</td>\n",
              "    </tr>\n",
              "    <tr>\n",
              "      <th>1443</th>\n",
              "      <td>536544</td>\n",
              "      <td>21773</td>\n",
              "      <td>DECORATIVE ROSE BATHROOM BOTTLE</td>\n",
              "      <td>1</td>\n",
              "      <td>2010-12-01 14:32:00</td>\n",
              "      <td>2.51</td>\n",
              "      <td>NaN</td>\n",
              "      <td>United Kingdom</td>\n",
              "    </tr>\n",
              "    <tr>\n",
              "      <th>1444</th>\n",
              "      <td>536544</td>\n",
              "      <td>21774</td>\n",
              "      <td>DECORATIVE CATS BATHROOM BOTTLE</td>\n",
              "      <td>2</td>\n",
              "      <td>2010-12-01 14:32:00</td>\n",
              "      <td>2.51</td>\n",
              "      <td>NaN</td>\n",
              "      <td>United Kingdom</td>\n",
              "    </tr>\n",
              "  </tbody>\n",
              "</table>\n",
              "</div>"
            ],
            "text/plain": [
              "     InvoiceNo StockCode  ... CustomerID         Country\n",
              "622     536414     22139  ...        NaN  United Kingdom\n",
              "1443    536544     21773  ...        NaN  United Kingdom\n",
              "1444    536544     21774  ...        NaN  United Kingdom\n",
              "\n",
              "[3 rows x 8 columns]"
            ]
          },
          "metadata": {
            "tags": []
          },
          "execution_count": 29
        }
      ]
    },
    {
      "cell_type": "markdown",
      "metadata": {
        "id": "Dk_v46LV11Wv",
        "colab_type": "text"
      },
      "source": [
        "Now, we will deal with data without NaNs:"
      ]
    },
    {
      "cell_type": "code",
      "metadata": {
        "id": "bBZ3g_VL5bWO",
        "colab_type": "code",
        "colab": {
          "base_uri": "https://localhost:8080/",
          "height": 34
        },
        "outputId": "6c976aeb-bd52-41b7-8ee4-9d0d6bcb78ce"
      },
      "source": [
        "# a few options\n",
        "df1 = df.dropna(axis = 0, subset = ['CustomerID'])\n",
        "df2 = df[~df.CustomerID.isna()] \n",
        "np.all(df1 == df2)"
      ],
      "execution_count": 30,
      "outputs": [
        {
          "output_type": "execute_result",
          "data": {
            "text/plain": [
              "True"
            ]
          },
          "metadata": {
            "tags": []
          },
          "execution_count": 30
        }
      ]
    },
    {
      "cell_type": "markdown",
      "metadata": {
        "id": "IU1aNjXk6f7c",
        "colab_type": "text"
      },
      "source": [
        "### 2.2. Duplicates"
      ]
    },
    {
      "cell_type": "code",
      "metadata": {
        "id": "OZdkRFDX6AFn",
        "colab_type": "code",
        "colab": {
          "base_uri": "https://localhost:8080/",
          "height": 34
        },
        "outputId": "86c4c204-8469-475a-8f32-d553ffbd67d1"
      },
      "source": [
        "df1.duplicated().sum()"
      ],
      "execution_count": 31,
      "outputs": [
        {
          "output_type": "execute_result",
          "data": {
            "text/plain": [
              "5225"
            ]
          },
          "metadata": {
            "tags": []
          },
          "execution_count": 31
        }
      ]
    },
    {
      "cell_type": "code",
      "metadata": {
        "id": "cKTxjBoI6uHq",
        "colab_type": "code",
        "colab": {}
      },
      "source": [
        "df = df1.drop_duplicates()"
      ],
      "execution_count": 32,
      "outputs": []
    },
    {
      "cell_type": "code",
      "metadata": {
        "id": "qyc8il-t_vML",
        "colab_type": "code",
        "colab": {
          "base_uri": "https://localhost:8080/",
          "height": 269
        },
        "outputId": "d90c0341-26e1-4b0c-c071-22a1d42e4571"
      },
      "source": [
        "df.info()  # maybe reset index?"
      ],
      "execution_count": 33,
      "outputs": [
        {
          "output_type": "stream",
          "text": [
            "<class 'pandas.core.frame.DataFrame'>\n",
            "Int64Index: 401604 entries, 0 to 541908\n",
            "Data columns (total 8 columns):\n",
            " #   Column       Non-Null Count   Dtype         \n",
            "---  ------       --------------   -----         \n",
            " 0   InvoiceNo    401604 non-null  object        \n",
            " 1   StockCode    401604 non-null  object        \n",
            " 2   Description  401604 non-null  object        \n",
            " 3   Quantity     401604 non-null  int64         \n",
            " 4   InvoiceDate  401604 non-null  datetime64[ns]\n",
            " 5   UnitPrice    401604 non-null  float64       \n",
            " 6   CustomerID   401604 non-null  float64       \n",
            " 7   Country      401604 non-null  object        \n",
            "dtypes: datetime64[ns](1), float64(2), int64(1), object(4)\n",
            "memory usage: 27.6+ MB\n"
          ],
          "name": "stdout"
        }
      ]
    },
    {
      "cell_type": "code",
      "metadata": {
        "id": "-dRUAd1M_1Rf",
        "colab_type": "code",
        "colab": {}
      },
      "source": [
        "dfr = df.reset_index()"
      ],
      "execution_count": 34,
      "outputs": []
    },
    {
      "cell_type": "markdown",
      "metadata": {
        "id": "g1_VYuBVQ1Yo",
        "colab_type": "text"
      },
      "source": [
        "### 2.3. Transform 'InvoiceDate' into some number of separate features"
      ]
    },
    {
      "cell_type": "code",
      "metadata": {
        "id": "_bpwEmiWQtkU",
        "colab_type": "code",
        "colab": {}
      },
      "source": [
        "df['year'] = pd.DatetimeIndex(df['InvoiceDate']).year\n",
        "df['month'] = pd.DatetimeIndex(df['InvoiceDate']).month\n",
        "df['dayofweek'] = pd.DatetimeIndex(df['InvoiceDate']).dayofweek\n",
        "df['weekofyear'] = pd.DatetimeIndex(df['InvoiceDate']).weekofyear\n",
        "df['hour'] = pd.DatetimeIndex(df['InvoiceDate']).hour\n",
        "df['dayofyear'] = pd.DatetimeIndex(df['InvoiceDate']).dayofyear\n",
        "\n",
        "# looks like we got all information from the InvoiceDate, so\n",
        "df = df.drop('InvoiceDate', axis=1)"
      ],
      "execution_count": 35,
      "outputs": []
    },
    {
      "cell_type": "code",
      "metadata": {
        "id": "eA7xrltL3JEP",
        "colab_type": "code",
        "colab": {
          "base_uri": "https://localhost:8080/",
          "height": 235
        },
        "outputId": "b5458211-d945-4da4-d905-4371ea2f9741"
      },
      "source": [
        "# let's see how many unique values for each column maybe do we have\n",
        "for col in df.columns:\n",
        "    print(f'Column {col} has {len(np.unique(df[col]))} unique values')"
      ],
      "execution_count": 36,
      "outputs": [
        {
          "output_type": "stream",
          "text": [
            "Column InvoiceNo has 22190 unique values\n",
            "Column StockCode has 3684 unique values\n",
            "Column Description has 3896 unique values\n",
            "Column Quantity has 436 unique values\n",
            "Column UnitPrice has 620 unique values\n",
            "Column CustomerID has 4372 unique values\n",
            "Column Country has 37 unique values\n",
            "Column year has 2 unique values\n",
            "Column month has 12 unique values\n",
            "Column dayofweek has 6 unique values\n",
            "Column weekofyear has 51 unique values\n",
            "Column hour has 15 unique values\n",
            "Column dayofyear has 298 unique values\n"
          ],
          "name": "stdout"
        }
      ]
    },
    {
      "cell_type": "markdown",
      "metadata": {
        "id": "7MMa3aiuUCcM",
        "colab_type": "text"
      },
      "source": [
        "Regarding 6 days in a week :) probably, the orders are just not processed on some day of the week and hence moved to the next day. we will see it further"
      ]
    },
    {
      "cell_type": "code",
      "metadata": {
        "id": "YVwVwyEriFgh",
        "colab_type": "code",
        "colab": {
          "base_uri": "https://localhost:8080/",
          "height": 134
        },
        "outputId": "891cbc1f-57bb-453a-b89e-263fd6a5d278"
      },
      "source": [
        "df.dayofweek.value_counts()  # hmmm"
      ],
      "execution_count": 56,
      "outputs": [
        {
          "output_type": "execute_result",
          "data": {
            "text/plain": [
              "3    81575\n",
              "2    69753\n",
              "1    67376\n",
              "0    65715\n",
              "6    61673\n",
              "4    55512\n",
              "Name: dayofweek, dtype: int64"
            ]
          },
          "metadata": {
            "tags": []
          },
          "execution_count": 56
        }
      ]
    },
    {
      "cell_type": "markdown",
      "metadata": {
        "id": "hIehMnKunZWU",
        "colab_type": "text"
      },
      "source": [
        "### 2.4. Transform 'Country' column into: 1. binary column (UK or not),   2. onehotencoded"
      ]
    },
    {
      "cell_type": "code",
      "metadata": {
        "id": "hum4qR5QOK4C",
        "colab_type": "code",
        "colab": {
          "base_uri": "https://localhost:8080/",
          "height": 279
        },
        "outputId": "462bcdea-1c3d-46ff-d2d1-af562f655614"
      },
      "source": [
        "df['is_UK'] = df.Country.apply(lambda x: int(x == 'UK'))\n",
        "df.head()"
      ],
      "execution_count": 37,
      "outputs": [
        {
          "output_type": "execute_result",
          "data": {
            "text/html": [
              "<div>\n",
              "<style scoped>\n",
              "    .dataframe tbody tr th:only-of-type {\n",
              "        vertical-align: middle;\n",
              "    }\n",
              "\n",
              "    .dataframe tbody tr th {\n",
              "        vertical-align: top;\n",
              "    }\n",
              "\n",
              "    .dataframe thead th {\n",
              "        text-align: right;\n",
              "    }\n",
              "</style>\n",
              "<table border=\"1\" class=\"dataframe\">\n",
              "  <thead>\n",
              "    <tr style=\"text-align: right;\">\n",
              "      <th></th>\n",
              "      <th>InvoiceNo</th>\n",
              "      <th>StockCode</th>\n",
              "      <th>Description</th>\n",
              "      <th>Quantity</th>\n",
              "      <th>UnitPrice</th>\n",
              "      <th>CustomerID</th>\n",
              "      <th>Country</th>\n",
              "      <th>year</th>\n",
              "      <th>month</th>\n",
              "      <th>dayofweek</th>\n",
              "      <th>weekofyear</th>\n",
              "      <th>hour</th>\n",
              "      <th>dayofyear</th>\n",
              "      <th>is_UK</th>\n",
              "    </tr>\n",
              "  </thead>\n",
              "  <tbody>\n",
              "    <tr>\n",
              "      <th>0</th>\n",
              "      <td>536365</td>\n",
              "      <td>85123A</td>\n",
              "      <td>WHITE HANGING HEART T-LIGHT HOLDER</td>\n",
              "      <td>6</td>\n",
              "      <td>2.55</td>\n",
              "      <td>17850.0</td>\n",
              "      <td>United Kingdom</td>\n",
              "      <td>2010</td>\n",
              "      <td>12</td>\n",
              "      <td>2</td>\n",
              "      <td>48</td>\n",
              "      <td>8</td>\n",
              "      <td>335</td>\n",
              "      <td>0</td>\n",
              "    </tr>\n",
              "    <tr>\n",
              "      <th>1</th>\n",
              "      <td>536365</td>\n",
              "      <td>71053</td>\n",
              "      <td>WHITE METAL LANTERN</td>\n",
              "      <td>6</td>\n",
              "      <td>3.39</td>\n",
              "      <td>17850.0</td>\n",
              "      <td>United Kingdom</td>\n",
              "      <td>2010</td>\n",
              "      <td>12</td>\n",
              "      <td>2</td>\n",
              "      <td>48</td>\n",
              "      <td>8</td>\n",
              "      <td>335</td>\n",
              "      <td>0</td>\n",
              "    </tr>\n",
              "    <tr>\n",
              "      <th>2</th>\n",
              "      <td>536365</td>\n",
              "      <td>84406B</td>\n",
              "      <td>CREAM CUPID HEARTS COAT HANGER</td>\n",
              "      <td>8</td>\n",
              "      <td>2.75</td>\n",
              "      <td>17850.0</td>\n",
              "      <td>United Kingdom</td>\n",
              "      <td>2010</td>\n",
              "      <td>12</td>\n",
              "      <td>2</td>\n",
              "      <td>48</td>\n",
              "      <td>8</td>\n",
              "      <td>335</td>\n",
              "      <td>0</td>\n",
              "    </tr>\n",
              "    <tr>\n",
              "      <th>3</th>\n",
              "      <td>536365</td>\n",
              "      <td>84029G</td>\n",
              "      <td>KNITTED UNION FLAG HOT WATER BOTTLE</td>\n",
              "      <td>6</td>\n",
              "      <td>3.39</td>\n",
              "      <td>17850.0</td>\n",
              "      <td>United Kingdom</td>\n",
              "      <td>2010</td>\n",
              "      <td>12</td>\n",
              "      <td>2</td>\n",
              "      <td>48</td>\n",
              "      <td>8</td>\n",
              "      <td>335</td>\n",
              "      <td>0</td>\n",
              "    </tr>\n",
              "    <tr>\n",
              "      <th>4</th>\n",
              "      <td>536365</td>\n",
              "      <td>84029E</td>\n",
              "      <td>RED WOOLLY HOTTIE WHITE HEART.</td>\n",
              "      <td>6</td>\n",
              "      <td>3.39</td>\n",
              "      <td>17850.0</td>\n",
              "      <td>United Kingdom</td>\n",
              "      <td>2010</td>\n",
              "      <td>12</td>\n",
              "      <td>2</td>\n",
              "      <td>48</td>\n",
              "      <td>8</td>\n",
              "      <td>335</td>\n",
              "      <td>0</td>\n",
              "    </tr>\n",
              "  </tbody>\n",
              "</table>\n",
              "</div>"
            ],
            "text/plain": [
              "  InvoiceNo StockCode  ... dayofyear  is_UK\n",
              "0    536365    85123A  ...       335      0\n",
              "1    536365     71053  ...       335      0\n",
              "2    536365    84406B  ...       335      0\n",
              "3    536365    84029G  ...       335      0\n",
              "4    536365    84029E  ...       335      0\n",
              "\n",
              "[5 rows x 14 columns]"
            ]
          },
          "metadata": {
            "tags": []
          },
          "execution_count": 37
        }
      ]
    },
    {
      "cell_type": "markdown",
      "metadata": {
        "id": "rq-cOxYOcT_f",
        "colab_type": "text"
      },
      "source": [
        "one hot encode countries"
      ]
    },
    {
      "cell_type": "code",
      "metadata": {
        "id": "lifQ6pboPxcE",
        "colab_type": "code",
        "colab": {
          "base_uri": "https://localhost:8080/",
          "height": 249
        },
        "outputId": "e7193992-8998-4656-c0dc-4b6902916d67"
      },
      "source": [
        "df_Countries = pd.get_dummies(df.Country)\n",
        "df_Countries.head()"
      ],
      "execution_count": 49,
      "outputs": [
        {
          "output_type": "execute_result",
          "data": {
            "text/html": [
              "<div>\n",
              "<style scoped>\n",
              "    .dataframe tbody tr th:only-of-type {\n",
              "        vertical-align: middle;\n",
              "    }\n",
              "\n",
              "    .dataframe tbody tr th {\n",
              "        vertical-align: top;\n",
              "    }\n",
              "\n",
              "    .dataframe thead th {\n",
              "        text-align: right;\n",
              "    }\n",
              "</style>\n",
              "<table border=\"1\" class=\"dataframe\">\n",
              "  <thead>\n",
              "    <tr style=\"text-align: right;\">\n",
              "      <th></th>\n",
              "      <th>Australia</th>\n",
              "      <th>Austria</th>\n",
              "      <th>Bahrain</th>\n",
              "      <th>Belgium</th>\n",
              "      <th>Brazil</th>\n",
              "      <th>Canada</th>\n",
              "      <th>Channel Islands</th>\n",
              "      <th>Cyprus</th>\n",
              "      <th>Czech Republic</th>\n",
              "      <th>Denmark</th>\n",
              "      <th>EIRE</th>\n",
              "      <th>European Community</th>\n",
              "      <th>Finland</th>\n",
              "      <th>France</th>\n",
              "      <th>Germany</th>\n",
              "      <th>Greece</th>\n",
              "      <th>Iceland</th>\n",
              "      <th>Israel</th>\n",
              "      <th>Italy</th>\n",
              "      <th>Japan</th>\n",
              "      <th>Lebanon</th>\n",
              "      <th>Lithuania</th>\n",
              "      <th>Malta</th>\n",
              "      <th>Netherlands</th>\n",
              "      <th>Norway</th>\n",
              "      <th>Poland</th>\n",
              "      <th>Portugal</th>\n",
              "      <th>RSA</th>\n",
              "      <th>Saudi Arabia</th>\n",
              "      <th>Singapore</th>\n",
              "      <th>Spain</th>\n",
              "      <th>Sweden</th>\n",
              "      <th>Switzerland</th>\n",
              "      <th>USA</th>\n",
              "      <th>United Arab Emirates</th>\n",
              "      <th>United Kingdom</th>\n",
              "      <th>Unspecified</th>\n",
              "    </tr>\n",
              "  </thead>\n",
              "  <tbody>\n",
              "    <tr>\n",
              "      <th>0</th>\n",
              "      <td>0</td>\n",
              "      <td>0</td>\n",
              "      <td>0</td>\n",
              "      <td>0</td>\n",
              "      <td>0</td>\n",
              "      <td>0</td>\n",
              "      <td>0</td>\n",
              "      <td>0</td>\n",
              "      <td>0</td>\n",
              "      <td>0</td>\n",
              "      <td>0</td>\n",
              "      <td>0</td>\n",
              "      <td>0</td>\n",
              "      <td>0</td>\n",
              "      <td>0</td>\n",
              "      <td>0</td>\n",
              "      <td>0</td>\n",
              "      <td>0</td>\n",
              "      <td>0</td>\n",
              "      <td>0</td>\n",
              "      <td>0</td>\n",
              "      <td>0</td>\n",
              "      <td>0</td>\n",
              "      <td>0</td>\n",
              "      <td>0</td>\n",
              "      <td>0</td>\n",
              "      <td>0</td>\n",
              "      <td>0</td>\n",
              "      <td>0</td>\n",
              "      <td>0</td>\n",
              "      <td>0</td>\n",
              "      <td>0</td>\n",
              "      <td>0</td>\n",
              "      <td>0</td>\n",
              "      <td>0</td>\n",
              "      <td>1</td>\n",
              "      <td>0</td>\n",
              "    </tr>\n",
              "    <tr>\n",
              "      <th>1</th>\n",
              "      <td>0</td>\n",
              "      <td>0</td>\n",
              "      <td>0</td>\n",
              "      <td>0</td>\n",
              "      <td>0</td>\n",
              "      <td>0</td>\n",
              "      <td>0</td>\n",
              "      <td>0</td>\n",
              "      <td>0</td>\n",
              "      <td>0</td>\n",
              "      <td>0</td>\n",
              "      <td>0</td>\n",
              "      <td>0</td>\n",
              "      <td>0</td>\n",
              "      <td>0</td>\n",
              "      <td>0</td>\n",
              "      <td>0</td>\n",
              "      <td>0</td>\n",
              "      <td>0</td>\n",
              "      <td>0</td>\n",
              "      <td>0</td>\n",
              "      <td>0</td>\n",
              "      <td>0</td>\n",
              "      <td>0</td>\n",
              "      <td>0</td>\n",
              "      <td>0</td>\n",
              "      <td>0</td>\n",
              "      <td>0</td>\n",
              "      <td>0</td>\n",
              "      <td>0</td>\n",
              "      <td>0</td>\n",
              "      <td>0</td>\n",
              "      <td>0</td>\n",
              "      <td>0</td>\n",
              "      <td>0</td>\n",
              "      <td>1</td>\n",
              "      <td>0</td>\n",
              "    </tr>\n",
              "    <tr>\n",
              "      <th>2</th>\n",
              "      <td>0</td>\n",
              "      <td>0</td>\n",
              "      <td>0</td>\n",
              "      <td>0</td>\n",
              "      <td>0</td>\n",
              "      <td>0</td>\n",
              "      <td>0</td>\n",
              "      <td>0</td>\n",
              "      <td>0</td>\n",
              "      <td>0</td>\n",
              "      <td>0</td>\n",
              "      <td>0</td>\n",
              "      <td>0</td>\n",
              "      <td>0</td>\n",
              "      <td>0</td>\n",
              "      <td>0</td>\n",
              "      <td>0</td>\n",
              "      <td>0</td>\n",
              "      <td>0</td>\n",
              "      <td>0</td>\n",
              "      <td>0</td>\n",
              "      <td>0</td>\n",
              "      <td>0</td>\n",
              "      <td>0</td>\n",
              "      <td>0</td>\n",
              "      <td>0</td>\n",
              "      <td>0</td>\n",
              "      <td>0</td>\n",
              "      <td>0</td>\n",
              "      <td>0</td>\n",
              "      <td>0</td>\n",
              "      <td>0</td>\n",
              "      <td>0</td>\n",
              "      <td>0</td>\n",
              "      <td>0</td>\n",
              "      <td>1</td>\n",
              "      <td>0</td>\n",
              "    </tr>\n",
              "    <tr>\n",
              "      <th>3</th>\n",
              "      <td>0</td>\n",
              "      <td>0</td>\n",
              "      <td>0</td>\n",
              "      <td>0</td>\n",
              "      <td>0</td>\n",
              "      <td>0</td>\n",
              "      <td>0</td>\n",
              "      <td>0</td>\n",
              "      <td>0</td>\n",
              "      <td>0</td>\n",
              "      <td>0</td>\n",
              "      <td>0</td>\n",
              "      <td>0</td>\n",
              "      <td>0</td>\n",
              "      <td>0</td>\n",
              "      <td>0</td>\n",
              "      <td>0</td>\n",
              "      <td>0</td>\n",
              "      <td>0</td>\n",
              "      <td>0</td>\n",
              "      <td>0</td>\n",
              "      <td>0</td>\n",
              "      <td>0</td>\n",
              "      <td>0</td>\n",
              "      <td>0</td>\n",
              "      <td>0</td>\n",
              "      <td>0</td>\n",
              "      <td>0</td>\n",
              "      <td>0</td>\n",
              "      <td>0</td>\n",
              "      <td>0</td>\n",
              "      <td>0</td>\n",
              "      <td>0</td>\n",
              "      <td>0</td>\n",
              "      <td>0</td>\n",
              "      <td>1</td>\n",
              "      <td>0</td>\n",
              "    </tr>\n",
              "    <tr>\n",
              "      <th>4</th>\n",
              "      <td>0</td>\n",
              "      <td>0</td>\n",
              "      <td>0</td>\n",
              "      <td>0</td>\n",
              "      <td>0</td>\n",
              "      <td>0</td>\n",
              "      <td>0</td>\n",
              "      <td>0</td>\n",
              "      <td>0</td>\n",
              "      <td>0</td>\n",
              "      <td>0</td>\n",
              "      <td>0</td>\n",
              "      <td>0</td>\n",
              "      <td>0</td>\n",
              "      <td>0</td>\n",
              "      <td>0</td>\n",
              "      <td>0</td>\n",
              "      <td>0</td>\n",
              "      <td>0</td>\n",
              "      <td>0</td>\n",
              "      <td>0</td>\n",
              "      <td>0</td>\n",
              "      <td>0</td>\n",
              "      <td>0</td>\n",
              "      <td>0</td>\n",
              "      <td>0</td>\n",
              "      <td>0</td>\n",
              "      <td>0</td>\n",
              "      <td>0</td>\n",
              "      <td>0</td>\n",
              "      <td>0</td>\n",
              "      <td>0</td>\n",
              "      <td>0</td>\n",
              "      <td>0</td>\n",
              "      <td>0</td>\n",
              "      <td>1</td>\n",
              "      <td>0</td>\n",
              "    </tr>\n",
              "  </tbody>\n",
              "</table>\n",
              "</div>"
            ],
            "text/plain": [
              "   Australia  Austria  ...  United Kingdom  Unspecified\n",
              "0          0        0  ...               1            0\n",
              "1          0        0  ...               1            0\n",
              "2          0        0  ...               1            0\n",
              "3          0        0  ...               1            0\n",
              "4          0        0  ...               1            0\n",
              "\n",
              "[5 rows x 37 columns]"
            ]
          },
          "metadata": {
            "tags": []
          },
          "execution_count": 49
        }
      ]
    },
    {
      "cell_type": "code",
      "metadata": {
        "id": "pUf2zVFDdzOL",
        "colab_type": "code",
        "colab": {
          "base_uri": "https://localhost:8080/",
          "height": 261
        },
        "outputId": "0cefe02b-df30-4162-c2ec-4e8818bd83c6"
      },
      "source": [
        "df = pd.concat([df, df_Countries], axis=1)\n",
        "df.head(2)"
      ],
      "execution_count": 55,
      "outputs": [
        {
          "output_type": "execute_result",
          "data": {
            "text/html": [
              "<div>\n",
              "<style scoped>\n",
              "    .dataframe tbody tr th:only-of-type {\n",
              "        vertical-align: middle;\n",
              "    }\n",
              "\n",
              "    .dataframe tbody tr th {\n",
              "        vertical-align: top;\n",
              "    }\n",
              "\n",
              "    .dataframe thead th {\n",
              "        text-align: right;\n",
              "    }\n",
              "</style>\n",
              "<table border=\"1\" class=\"dataframe\">\n",
              "  <thead>\n",
              "    <tr style=\"text-align: right;\">\n",
              "      <th></th>\n",
              "      <th>InvoiceNo</th>\n",
              "      <th>StockCode</th>\n",
              "      <th>Description</th>\n",
              "      <th>Quantity</th>\n",
              "      <th>UnitPrice</th>\n",
              "      <th>CustomerID</th>\n",
              "      <th>Country</th>\n",
              "      <th>year</th>\n",
              "      <th>month</th>\n",
              "      <th>dayofweek</th>\n",
              "      <th>weekofyear</th>\n",
              "      <th>hour</th>\n",
              "      <th>dayofyear</th>\n",
              "      <th>is_UK</th>\n",
              "      <th>Australia</th>\n",
              "      <th>Austria</th>\n",
              "      <th>Bahrain</th>\n",
              "      <th>Belgium</th>\n",
              "      <th>Brazil</th>\n",
              "      <th>Canada</th>\n",
              "      <th>Channel Islands</th>\n",
              "      <th>Cyprus</th>\n",
              "      <th>Czech Republic</th>\n",
              "      <th>Denmark</th>\n",
              "      <th>EIRE</th>\n",
              "      <th>European Community</th>\n",
              "      <th>Finland</th>\n",
              "      <th>France</th>\n",
              "      <th>Germany</th>\n",
              "      <th>Greece</th>\n",
              "      <th>Iceland</th>\n",
              "      <th>Israel</th>\n",
              "      <th>Italy</th>\n",
              "      <th>Japan</th>\n",
              "      <th>Lebanon</th>\n",
              "      <th>Lithuania</th>\n",
              "      <th>Malta</th>\n",
              "      <th>Netherlands</th>\n",
              "      <th>Norway</th>\n",
              "      <th>Poland</th>\n",
              "      <th>Portugal</th>\n",
              "      <th>RSA</th>\n",
              "      <th>Saudi Arabia</th>\n",
              "      <th>Singapore</th>\n",
              "      <th>Spain</th>\n",
              "      <th>Sweden</th>\n",
              "      <th>Switzerland</th>\n",
              "      <th>USA</th>\n",
              "      <th>United Arab Emirates</th>\n",
              "      <th>United Kingdom</th>\n",
              "      <th>Unspecified</th>\n",
              "    </tr>\n",
              "  </thead>\n",
              "  <tbody>\n",
              "    <tr>\n",
              "      <th>0</th>\n",
              "      <td>536365</td>\n",
              "      <td>85123A</td>\n",
              "      <td>WHITE HANGING HEART T-LIGHT HOLDER</td>\n",
              "      <td>6</td>\n",
              "      <td>2.55</td>\n",
              "      <td>17850.0</td>\n",
              "      <td>United Kingdom</td>\n",
              "      <td>2010</td>\n",
              "      <td>12</td>\n",
              "      <td>2</td>\n",
              "      <td>48</td>\n",
              "      <td>8</td>\n",
              "      <td>335</td>\n",
              "      <td>0</td>\n",
              "      <td>0</td>\n",
              "      <td>0</td>\n",
              "      <td>0</td>\n",
              "      <td>0</td>\n",
              "      <td>0</td>\n",
              "      <td>0</td>\n",
              "      <td>0</td>\n",
              "      <td>0</td>\n",
              "      <td>0</td>\n",
              "      <td>0</td>\n",
              "      <td>0</td>\n",
              "      <td>0</td>\n",
              "      <td>0</td>\n",
              "      <td>0</td>\n",
              "      <td>0</td>\n",
              "      <td>0</td>\n",
              "      <td>0</td>\n",
              "      <td>0</td>\n",
              "      <td>0</td>\n",
              "      <td>0</td>\n",
              "      <td>0</td>\n",
              "      <td>0</td>\n",
              "      <td>0</td>\n",
              "      <td>0</td>\n",
              "      <td>0</td>\n",
              "      <td>0</td>\n",
              "      <td>0</td>\n",
              "      <td>0</td>\n",
              "      <td>0</td>\n",
              "      <td>0</td>\n",
              "      <td>0</td>\n",
              "      <td>0</td>\n",
              "      <td>0</td>\n",
              "      <td>0</td>\n",
              "      <td>0</td>\n",
              "      <td>1</td>\n",
              "      <td>0</td>\n",
              "    </tr>\n",
              "    <tr>\n",
              "      <th>1</th>\n",
              "      <td>536365</td>\n",
              "      <td>71053</td>\n",
              "      <td>WHITE METAL LANTERN</td>\n",
              "      <td>6</td>\n",
              "      <td>3.39</td>\n",
              "      <td>17850.0</td>\n",
              "      <td>United Kingdom</td>\n",
              "      <td>2010</td>\n",
              "      <td>12</td>\n",
              "      <td>2</td>\n",
              "      <td>48</td>\n",
              "      <td>8</td>\n",
              "      <td>335</td>\n",
              "      <td>0</td>\n",
              "      <td>0</td>\n",
              "      <td>0</td>\n",
              "      <td>0</td>\n",
              "      <td>0</td>\n",
              "      <td>0</td>\n",
              "      <td>0</td>\n",
              "      <td>0</td>\n",
              "      <td>0</td>\n",
              "      <td>0</td>\n",
              "      <td>0</td>\n",
              "      <td>0</td>\n",
              "      <td>0</td>\n",
              "      <td>0</td>\n",
              "      <td>0</td>\n",
              "      <td>0</td>\n",
              "      <td>0</td>\n",
              "      <td>0</td>\n",
              "      <td>0</td>\n",
              "      <td>0</td>\n",
              "      <td>0</td>\n",
              "      <td>0</td>\n",
              "      <td>0</td>\n",
              "      <td>0</td>\n",
              "      <td>0</td>\n",
              "      <td>0</td>\n",
              "      <td>0</td>\n",
              "      <td>0</td>\n",
              "      <td>0</td>\n",
              "      <td>0</td>\n",
              "      <td>0</td>\n",
              "      <td>0</td>\n",
              "      <td>0</td>\n",
              "      <td>0</td>\n",
              "      <td>0</td>\n",
              "      <td>0</td>\n",
              "      <td>1</td>\n",
              "      <td>0</td>\n",
              "    </tr>\n",
              "  </tbody>\n",
              "</table>\n",
              "</div>"
            ],
            "text/plain": [
              "  InvoiceNo StockCode  ... United Kingdom  Unspecified\n",
              "0    536365    85123A  ...              1            0\n",
              "1    536365     71053  ...              1            0\n",
              "\n",
              "[2 rows x 51 columns]"
            ]
          },
          "metadata": {
            "tags": []
          },
          "execution_count": 55
        }
      ]
    },
    {
      "cell_type": "markdown",
      "metadata": {
        "id": "x9Y9g8gXjs7N",
        "colab_type": "text"
      },
      "source": [
        "### Further steps"
      ]
    },
    {
      "cell_type": "markdown",
      "metadata": {
        "id": "Qtekeg7ki70i",
        "colab_type": "text"
      },
      "source": [
        "Later we will drop the column 'Country'. For now, we have to figure out what can we do with 'Description' and 'CustomerID'\n",
        "\n",
        "\n",
        "\n",
        "As for Description, there are few options:\n",
        "\n",
        "\n",
        "    - each value in this column should be turned into fixed length sequence of n-dimensional vectors, \n",
        "    where n - is either embedding dimension or size of vocabulary of most frequent words (this is CountVectorizer)\n",
        "\n",
        "    - classify values in description column by item type or sth else (like stuff for kitchen/bedroom/etc)\n",
        "\n",
        "\n",
        "\n",
        "As for CustomerID, \n",
        "\n",
        "    - I don't like that the values are integers, since there is no relations between these numbers, \n",
        "    in fact it's categorical feature, not numerical\n",
        "\n"
      ]
    },
    {
      "cell_type": "code",
      "metadata": {
        "id": "G6FpOz-lcFix",
        "colab_type": "code",
        "colab": {
          "base_uri": "https://localhost:8080/",
          "height": 54
        },
        "outputId": "1831b9b7-509e-4853-c322-e148fff5b802"
      },
      "source": [
        "for d in df.Description[:50]:\n",
        "    print(d, end=' _____ ')"
      ],
      "execution_count": 61,
      "outputs": [
        {
          "output_type": "stream",
          "text": [
            "WHITE HANGING HEART T-LIGHT HOLDER _____ WHITE METAL LANTERN _____ CREAM CUPID HEARTS COAT HANGER _____ KNITTED UNION FLAG HOT WATER BOTTLE _____ RED WOOLLY HOTTIE WHITE HEART. _____ SET 7 BABUSHKA NESTING BOXES _____ GLASS STAR FROSTED T-LIGHT HOLDER _____ HAND WARMER UNION JACK _____ HAND WARMER RED POLKA DOT _____ ASSORTED COLOUR BIRD ORNAMENT _____ POPPY'S PLAYHOUSE BEDROOM  _____ POPPY'S PLAYHOUSE KITCHEN _____ FELTCRAFT PRINCESS CHARLOTTE DOLL _____ IVORY KNITTED MUG COSY  _____ BOX OF 6 ASSORTED COLOUR TEASPOONS _____ BOX OF VINTAGE JIGSAW BLOCKS  _____ BOX OF VINTAGE ALPHABET BLOCKS _____ HOME BUILDING BLOCK WORD _____ LOVE BUILDING BLOCK WORD _____ RECIPE BOX WITH METAL HEART _____ DOORMAT NEW ENGLAND _____ JAM MAKING SET WITH JARS _____ RED COAT RACK PARIS FASHION _____ YELLOW COAT RACK PARIS FASHION _____ BLUE COAT RACK PARIS FASHION _____ BATH BUILDING BLOCK WORD _____ ALARM CLOCK BAKELIKE PINK _____ ALARM CLOCK BAKELIKE RED  _____ ALARM CLOCK BAKELIKE GREEN _____ PANDA AND BUNNIES STICKER SHEET _____ STARS GIFT TAPE  _____ INFLATABLE POLITICAL GLOBE  _____ VINTAGE HEADS AND TAILS CARD GAME  _____ SET/2 RED RETROSPOT TEA TOWELS  _____ ROUND SNACK BOXES SET OF4 WOODLAND  _____ SPACEBOY LUNCH BOX  _____ LUNCH BOX I LOVE LONDON _____ CIRCUS PARADE LUNCH BOX  _____ CHARLOTTE BAG DOLLY GIRL DESIGN _____ RED TOADSTOOL LED NIGHT LIGHT _____  SET 2 TEA TOWELS I LOVE LONDON  _____ VINTAGE SEASIDE JIGSAW PUZZLES _____ MINI JIGSAW CIRCUS PARADE  _____ MINI JIGSAW SPACEBOY _____ MINI PAINT SET VINTAGE  _____ POSTAGE _____ PAPER CHAIN KIT 50'S CHRISTMAS  _____ HAND WARMER RED POLKA DOT _____ HAND WARMER UNION JACK _____ WHITE HANGING HEART T-LIGHT HOLDER _____ "
          ],
          "name": "stdout"
        }
      ]
    },
    {
      "cell_type": "code",
      "metadata": {
        "id": "8_92UuRlhugh",
        "colab_type": "code",
        "colab": {
          "base_uri": "https://localhost:8080/",
          "height": 890
        },
        "outputId": "e8268488-cedf-41a4-fcf7-b3faec405dfa"
      },
      "source": [
        "df.dtypes"
      ],
      "execution_count": 63,
      "outputs": [
        {
          "output_type": "execute_result",
          "data": {
            "text/plain": [
              "InvoiceNo                object\n",
              "StockCode                object\n",
              "Description              object\n",
              "Quantity                  int64\n",
              "UnitPrice               float64\n",
              "CustomerID              float64\n",
              "Country                  object\n",
              "year                      int64\n",
              "month                     int64\n",
              "dayofweek                 int64\n",
              "weekofyear                int64\n",
              "hour                      int64\n",
              "dayofyear                 int64\n",
              "is_UK                     int64\n",
              "Australia                 uint8\n",
              "Austria                   uint8\n",
              "Bahrain                   uint8\n",
              "Belgium                   uint8\n",
              "Brazil                    uint8\n",
              "Canada                    uint8\n",
              "Channel Islands           uint8\n",
              "Cyprus                    uint8\n",
              "Czech Republic            uint8\n",
              "Denmark                   uint8\n",
              "EIRE                      uint8\n",
              "European Community        uint8\n",
              "Finland                   uint8\n",
              "France                    uint8\n",
              "Germany                   uint8\n",
              "Greece                    uint8\n",
              "Iceland                   uint8\n",
              "Israel                    uint8\n",
              "Italy                     uint8\n",
              "Japan                     uint8\n",
              "Lebanon                   uint8\n",
              "Lithuania                 uint8\n",
              "Malta                     uint8\n",
              "Netherlands               uint8\n",
              "Norway                    uint8\n",
              "Poland                    uint8\n",
              "Portugal                  uint8\n",
              "RSA                       uint8\n",
              "Saudi Arabia              uint8\n",
              "Singapore                 uint8\n",
              "Spain                     uint8\n",
              "Sweden                    uint8\n",
              "Switzerland               uint8\n",
              "USA                       uint8\n",
              "United Arab Emirates      uint8\n",
              "United Kingdom            uint8\n",
              "Unspecified               uint8\n",
              "dtype: object"
            ]
          },
          "metadata": {
            "tags": []
          },
          "execution_count": 63
        }
      ]
    },
    {
      "cell_type": "code",
      "metadata": {
        "id": "ya941NSVhulf",
        "colab_type": "code",
        "colab": {}
      },
      "source": [
        ""
      ],
      "execution_count": null,
      "outputs": []
    },
    {
      "cell_type": "code",
      "metadata": {
        "id": "1h3J0c6mhusV",
        "colab_type": "code",
        "colab": {}
      },
      "source": [
        ""
      ],
      "execution_count": null,
      "outputs": []
    },
    {
      "cell_type": "code",
      "metadata": {
        "id": "EdgLFmYkcFp1",
        "colab_type": "code",
        "colab": {}
      },
      "source": [
        ""
      ],
      "execution_count": null,
      "outputs": []
    },
    {
      "cell_type": "markdown",
      "metadata": {
        "id": "WBchwPaRcF0q",
        "colab_type": "text"
      },
      "source": [
        "Okay, possible plots:\n",
        "\n",
        "    - plot boxplots for features with small number of unique values\n",
        "\n",
        "    - for Country, week, dayofweek, dayofyear and month, etc we can aggregate total number of orders, total sum of orders made, etc\n",
        "\n",
        "    - sth else?\n"
      ]
    },
    {
      "cell_type": "code",
      "metadata": {
        "id": "1aPJVb0NcGNU",
        "colab_type": "code",
        "colab": {}
      },
      "source": [
        ""
      ],
      "execution_count": null,
      "outputs": []
    }
  ]
}